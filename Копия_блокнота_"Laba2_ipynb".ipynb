{
  "nbformat": 4,
  "nbformat_minor": 0,
  "metadata": {
    "colab": {
      "provenance": [],
      "toc_visible": true,
      "authorship_tag": "ABX9TyOecSq5XZ5o9+hiKJN8+z+u",
      "include_colab_link": true
    },
    "kernelspec": {
      "name": "python3",
      "display_name": "Python 3"
    },
    "language_info": {
      "name": "python"
    }
  },
  "cells": [
    {
      "cell_type": "markdown",
      "metadata": {
        "id": "view-in-github",
        "colab_type": "text"
      },
      "source": [
        "<a href=\"https://colab.research.google.com/github/HromovAndrey/II_mood_2_laba/blob/main/%D0%9A%D0%BE%D0%BF%D0%B8%D1%8F_%D0%B1%D0%BB%D0%BE%D0%BA%D0%BD%D0%BE%D1%82%D0%B0_%22Laba2_ipynb%22.ipynb\" target=\"_parent\"><img src=\"https://colab.research.google.com/assets/colab-badge.svg\" alt=\"Open In Colab\"/></a>"
      ]
    },
    {
      "cell_type": "code",
      "source": [
        "import numpy as np"
      ],
      "metadata": {
        "id": "x2B1iUQcviuD"
      },
      "execution_count": null,
      "outputs": []
    },
    {
      "cell_type": "code",
      "execution_count": null,
      "metadata": {
        "id": "NDvFGJlMQHyO",
        "colab": {
          "base_uri": "https://localhost:8080/"
        },
        "outputId": "54085e91-61d2-4718-9423-163cbc0967ee"
      },
      "outputs": [
        {
          "output_type": "stream",
          "name": "stdout",
          "text": [
            "[[1 2]\n",
            " [3 4]]\n"
          ]
        }
      ],
      "source": [
        "b = np.array([[1,2],[3,4]])\n",
        "print(b)"
      ]
    },
    {
      "cell_type": "code",
      "source": [
        "print(b.shape)"
      ],
      "metadata": {
        "id": "X8JAWmOCl5oA",
        "outputId": "d4bc5f21-d22d-4296-905a-1e20b44331bb",
        "colab": {
          "base_uri": "https://localhost:8080/"
        }
      },
      "execution_count": null,
      "outputs": [
        {
          "output_type": "stream",
          "name": "stdout",
          "text": [
            "(2, 2)\n"
          ]
        }
      ]
    },
    {
      "cell_type": "code",
      "source": [
        "c = np.ones((2,4))\n",
        "print(c)"
      ],
      "metadata": {
        "id": "juFp6TXZmo_r",
        "outputId": "1a084552-916a-4ba7-f60c-4ba8d64217dd",
        "colab": {
          "base_uri": "https://localhost:8080/"
        }
      },
      "execution_count": null,
      "outputs": [
        {
          "output_type": "stream",
          "name": "stdout",
          "text": [
            "[[1. 1. 1. 1.]\n",
            " [1. 1. 1. 1.]]\n"
          ]
        }
      ]
    },
    {
      "cell_type": "code",
      "source": [
        "p = np.random.random((3,2))\n",
        "print(p)"
      ],
      "metadata": {
        "id": "OgY_0Kqx7KiT",
        "outputId": "47b47676-6bab-4f87-acae-3a7653e0b48f",
        "colab": {
          "base_uri": "https://localhost:8080/"
        }
      },
      "execution_count": null,
      "outputs": [
        {
          "output_type": "stream",
          "name": "stdout",
          "text": [
            "[[0.83602542 0.10301411]\n",
            " [0.16993532 0.22796589]\n",
            " [0.15140417 0.71521318]]\n"
          ]
        }
      ]
    },
    {
      "cell_type": "code",
      "source": [
        "v = np.full((2,2),7)\n",
        "print(v)"
      ],
      "metadata": {
        "id": "AnZh4IXB7vVc",
        "outputId": "c9e013ea-be43-45cb-97e1-1b8d0bcb9d08",
        "colab": {
          "base_uri": "https://localhost:8080/"
        }
      },
      "execution_count": null,
      "outputs": [
        {
          "output_type": "stream",
          "name": "stdout",
          "text": [
            "[[7 7]\n",
            " [7 7]]\n"
          ]
        }
      ]
    },
    {
      "cell_type": "code",
      "source": [
        "z = np.eye(2)\n",
        "print(z)"
      ],
      "metadata": {
        "id": "L3TS8SzV8Auw",
        "outputId": "cac8a592-cc14-408a-acec-d1d5f4e4a9e7",
        "colab": {
          "base_uri": "https://localhost:8080/"
        }
      },
      "execution_count": null,
      "outputs": [
        {
          "output_type": "stream",
          "name": "stdout",
          "text": [
            "[[1. 0.]\n",
            " [0. 1.]]\n"
          ]
        }
      ]
    },
    {
      "cell_type": "code",
      "source": [
        "x = np.arange(10,50,5)\n",
        "print(x)"
      ],
      "metadata": {
        "id": "tx_WFpwZ9I25",
        "outputId": "a916619b-e93b-4a37-bbb0-27eccc518c9d",
        "colab": {
          "base_uri": "https://localhost:8080/"
        }
      },
      "execution_count": null,
      "outputs": [
        {
          "output_type": "stream",
          "name": "stdout",
          "text": [
            "[10 15 20 25 30 35 40 45]\n"
          ]
        }
      ]
    },
    {
      "cell_type": "code",
      "source": [
        "m = np.arange(1,25,3)\n",
        "print(m)"
      ],
      "metadata": {
        "id": "SqMmw1Jt9Yh4",
        "outputId": "8fa15c8b-cd3e-4c48-8d2b-38d48302acdb",
        "colab": {
          "base_uri": "https://localhost:8080/"
        }
      },
      "execution_count": null,
      "outputs": [
        {
          "output_type": "stream",
          "name": "stdout",
          "text": [
            "[ 1  4  7 10 13 16 19 22]\n"
          ]
        }
      ]
    },
    {
      "cell_type": "code",
      "source": [
        "a = np.linspace(0., 6., num=8)\n",
        "print(a)"
      ],
      "metadata": {
        "id": "LUBVsCHZ92qf",
        "outputId": "f5b306c1-68d3-4c29-f185-da138ca1a31a",
        "colab": {
          "base_uri": "https://localhost:8080/"
        }
      },
      "execution_count": null,
      "outputs": [
        {
          "output_type": "stream",
          "name": "stdout",
          "text": [
            "[0.         0.85714286 1.71428571 2.57142857 3.42857143 4.28571429\n",
            " 5.14285714 6.        ]\n"
          ]
        }
      ]
    },
    {
      "cell_type": "code",
      "source": [
        "s = np.array([3,4,5])\n",
        "d = np.array([6,7,8])\n",
        "print(f\"{s=}\\n\")\n",
        "print(f\"{d=}\\n\")\n",
        "np.vstack((s,d))"
      ],
      "metadata": {
        "id": "PRbNI-r7-xA9",
        "outputId": "a21edcf2-d297-430e-c1af-09464ccafbf0",
        "colab": {
          "base_uri": "https://localhost:8080/"
        }
      },
      "execution_count": null,
      "outputs": [
        {
          "output_type": "stream",
          "name": "stdout",
          "text": [
            "s=array([3, 4, 5])\n",
            "\n",
            "d=array([6, 7, 8])\n",
            "\n"
          ]
        },
        {
          "output_type": "execute_result",
          "data": {
            "text/plain": [
              "array([[3, 4, 5],\n",
              "       [6, 7, 8]])"
            ]
          },
          "metadata": {},
          "execution_count": 26
        }
      ]
    },
    {
      "cell_type": "code",
      "source": [
        "s = np.array([[3], [5], [8]])\n",
        "d = np.array([[2], [4], [6]])\n",
        "\n",
        "print(f\"{s=}\\n\")\n",
        "print(f\"{d=}\\n\")\n",
        "np.hstack((s,d))"
      ],
      "metadata": {
        "id": "ygxCNlsv_idP",
        "outputId": "9d52108b-54b6-4822-91c9-4264bd8f3f1f",
        "colab": {
          "base_uri": "https://localhost:8080/"
        }
      },
      "execution_count": null,
      "outputs": [
        {
          "output_type": "stream",
          "name": "stdout",
          "text": [
            "s=array([[3],\n",
            "       [5],\n",
            "       [8]])\n",
            "\n",
            "d=array([[2],\n",
            "       [4],\n",
            "       [6]])\n",
            "\n"
          ]
        },
        {
          "output_type": "execute_result",
          "data": {
            "text/plain": [
              "array([[3, 2],\n",
              "       [5, 4],\n",
              "       [8, 6]])"
            ]
          },
          "metadata": {},
          "execution_count": 28
        }
      ]
    },
    {
      "cell_type": "code",
      "source": [
        "a = np.array([[1,2,3,4], [5,6,7,8],[9,10,11,12]])\n",
        "print(a)\n",
        "print(a[0:2,1:3])\n",
        "print(a[0:3, 0])\n",
        "d = a[0:2, 1:3]\n",
        "print(d)\n",
        "row_r1 = a[1, :]\n",
        "row_r2 = a[1:2, :]\n",
        "row_r3 = a[[1], :]\n",
        "print(row_r1, row_r1.shape)\n",
        "print(row_r2, row_r2.shape)\n",
        "print(row_r3, row_r3.shape)"
      ],
      "metadata": {
        "id": "WBWBZ7uEBgXY",
        "outputId": "ecb62552-534d-4525-b224-752758a639ab",
        "colab": {
          "base_uri": "https://localhost:8080/"
        }
      },
      "execution_count": null,
      "outputs": [
        {
          "output_type": "stream",
          "name": "stdout",
          "text": [
            "[[ 1  2  3  4]\n",
            " [ 5  6  7  8]\n",
            " [ 9 10 11 12]]\n",
            "[[2 3]\n",
            " [6 7]]\n",
            "[1 5 9]\n",
            "[[2 3]\n",
            " [6 7]]\n",
            "[5 6 7 8] (4,)\n",
            "[[5 6 7 8]] (1, 4)\n",
            "[[5 6 7 8]] (1, 4)\n"
          ]
        }
      ]
    },
    {
      "cell_type": "code",
      "source": [
        "a = np.array([[1,2,3,4], [5,6,7,8],[9,10,11,12]])\n",
        "row_r1 = a[1, :]\n",
        "row_r2 = a[1:2, :]\n",
        "row_r3 = a[[1], :]\n",
        "print(row_r1, row_r1.shape)\n",
        "print(row_r2, row_r2.shape)\n",
        "print(row_r3, row_r3.shape)"
      ],
      "metadata": {
        "id": "2-v8JffAEpfT",
        "outputId": "24e677c8-1625-44ad-816a-53bc590597d8",
        "colab": {
          "base_uri": "https://localhost:8080/"
        }
      },
      "execution_count": null,
      "outputs": [
        {
          "output_type": "stream",
          "name": "stdout",
          "text": [
            "[5 6 7 8] (4,)\n",
            "[[5 6 7 8]] (1, 4)\n",
            "[[5 6 7 8]] (1, 4)\n"
          ]
        }
      ]
    },
    {
      "cell_type": "code",
      "source": [
        "row_r1 = a[1, :]\n",
        "row_r2 = a[1:2, :]\n",
        "row_r3 = a[[1], :]\n",
        "print(row_r1, row_r1.shape)\n",
        "print(row_r2, row_r2.shape)\n",
        "print(row_r3, row_r3.shape)"
      ],
      "metadata": {
        "id": "72jYx37EE7l0",
        "outputId": "6b078d90-790f-4ac8-c7ec-3ceba4c247a7",
        "colab": {
          "base_uri": "https://localhost:8080/"
        }
      },
      "execution_count": null,
      "outputs": [
        {
          "output_type": "stream",
          "name": "stdout",
          "text": [
            "[5 6 7 8] (4,)\n",
            "[[5 6 7 8]] (1, 4)\n",
            "[[5 6 7 8]] (1, 4)\n"
          ]
        }
      ]
    }
  ]
}